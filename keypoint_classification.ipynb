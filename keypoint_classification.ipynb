{
 "cells": [
  {
   "cell_type": "code",
   "execution_count": 1,
   "metadata": {
    "id": "igMyGnjE9hEp"
   },
   "outputs": [],
   "source": [
    "import csv\n",
    "\n",
    "import numpy as np\n",
    "import tensorflow as tf\n",
    "from sklearn.model_selection import train_test_split\n",
    "\n",
    "RANDOM_SEED = 42"
   ]
  },
  {
   "cell_type": "markdown",
   "metadata": {
    "id": "t2HDvhIu9hEr"
   },
   "source": [
    "# Specify each path"
   ]
  },
  {
   "cell_type": "code",
   "execution_count": 2,
   "metadata": {
    "id": "9NvZP2Zn9hEy"
   },
   "outputs": [],
   "source": [
    "dataset = 'model/keypoint_classifier/keypoint.csv'\n",
    "model_save_path = 'model/keypoint_classifier/keypoint_classifier.hdf5'\n",
    "tflite_save_path = 'model/keypoint_classifier/keypoint_classifier.tflite'"
   ]
  },
  {
   "cell_type": "markdown",
   "metadata": {
    "id": "s5oMH7x19hEz"
   },
   "source": [
    "# Set number of classes"
   ]
  },
  {
   "cell_type": "code",
   "execution_count": 3,
   "metadata": {
    "id": "du4kodXL9hEz"
   },
   "outputs": [],
   "source": [
    "NUM_CLASSES = 8"
   ]
  },
  {
   "cell_type": "markdown",
   "metadata": {
    "id": "XjnL0uso9hEz"
   },
   "source": [
    "# Dataset reading"
   ]
  },
  {
   "cell_type": "code",
   "execution_count": 4,
   "metadata": {
    "id": "QT5ZqtEz9hE0"
   },
   "outputs": [],
   "source": [
    "X_dataset = np.loadtxt(dataset, delimiter=',', dtype='float32', usecols=list(range(1, (21 * 2) + 1)))"
   ]
  },
  {
   "cell_type": "code",
   "execution_count": 5,
   "metadata": {
    "id": "QmoKFsp49hE0"
   },
   "outputs": [],
   "source": [
    "y_dataset = np.loadtxt(dataset, delimiter=',', dtype='int32', usecols=(0))"
   ]
  },
  {
   "cell_type": "code",
   "execution_count": 6,
   "metadata": {
    "id": "xQU7JTZ_9hE0"
   },
   "outputs": [],
   "source": [
    "X_train, X_test, y_train, y_test = train_test_split(X_dataset, y_dataset, train_size=0.75, random_state=RANDOM_SEED)"
   ]
  },
  {
   "cell_type": "markdown",
   "metadata": {
    "id": "mxK_lETT9hE0"
   },
   "source": [
    "# Model building"
   ]
  },
  {
   "cell_type": "code",
   "execution_count": 7,
   "metadata": {
    "id": "vHBmUf1t9hE1"
   },
   "outputs": [],
   "source": [
    "model = tf.keras.models.Sequential([\n",
    "    tf.keras.layers.Input((21 * 2, )),\n",
    "    tf.keras.layers.Dropout(0.2),\n",
    "    tf.keras.layers.Dense(20, activation='relu'),\n",
    "    tf.keras.layers.Dropout(0.4),\n",
    "    tf.keras.layers.Dense(10, activation='relu'),\n",
    "    tf.keras.layers.Dense(NUM_CLASSES, activation='softmax')\n",
    "])"
   ]
  },
  {
   "cell_type": "code",
   "execution_count": 8,
   "metadata": {
    "colab": {
     "base_uri": "https://localhost:8080/"
    },
    "id": "ypqky9tc9hE1",
    "outputId": "5db082bb-30e3-4110-bf63-a1ee777ecd46"
   },
   "outputs": [
    {
     "name": "stdout",
     "output_type": "stream",
     "text": [
      "Model: \"sequential\"\n",
      "_________________________________________________________________\n",
      " Layer (type)                Output Shape              Param #   \n",
      "=================================================================\n",
      " dropout (Dropout)           (None, 42)                0         \n",
      "                                                                 \n",
      " dense (Dense)               (None, 20)                860       \n",
      "                                                                 \n",
      " dropout_1 (Dropout)         (None, 20)                0         \n",
      "                                                                 \n",
      " dense_1 (Dense)             (None, 10)                210       \n",
      "                                                                 \n",
      " dense_2 (Dense)             (None, 8)                 88        \n",
      "                                                                 \n",
      "=================================================================\n",
      "Total params: 1,158\n",
      "Trainable params: 1,158\n",
      "Non-trainable params: 0\n",
      "_________________________________________________________________\n"
     ]
    }
   ],
   "source": [
    "model.summary()  # tf.keras.utils.plot_model(model, show_shapes=True)"
   ]
  },
  {
   "cell_type": "code",
   "execution_count": 9,
   "metadata": {
    "id": "MbMjOflQ9hE1"
   },
   "outputs": [],
   "source": [
    "# Model checkpoint callback\n",
    "cp_callback = tf.keras.callbacks.ModelCheckpoint(\n",
    "    model_save_path, verbose=1, save_weights_only=False)\n",
    "# Callback for early stopping\n",
    "es_callback = tf.keras.callbacks.EarlyStopping(patience=20, verbose=1)"
   ]
  },
  {
   "cell_type": "code",
   "execution_count": 10,
   "metadata": {
    "id": "c3Dac0M_9hE2"
   },
   "outputs": [],
   "source": [
    "# Model compilation\n",
    "model.compile(\n",
    "    optimizer='adam',\n",
    "    loss='sparse_categorical_crossentropy',\n",
    "    metrics=['accuracy']\n",
    ")"
   ]
  },
  {
   "cell_type": "markdown",
   "metadata": {
    "id": "7XI0j1Iu9hE2"
   },
   "source": [
    "# Model training"
   ]
  },
  {
   "cell_type": "code",
   "execution_count": 11,
   "metadata": {
    "colab": {
     "base_uri": "https://localhost:8080/"
    },
    "id": "WirBl-JE9hE3",
    "outputId": "71b30ca2-8294-4d9d-8aa2-800d90d399de",
    "scrolled": true
   },
   "outputs": [
    {
     "name": "stdout",
     "output_type": "stream",
     "text": [
      "Epoch 1/1000\n",
      "22/31 [====================>.........] - ETA: 0s - loss: 2.0921 - accuracy: 0.0987 \n",
      "Epoch 1: saving model to model/keypoint_classifier\\keypoint_classifier.hdf5\n",
      "31/31 [==============================] - 2s 20ms/step - loss: 2.0799 - accuracy: 0.1079 - val_loss: 2.0187 - val_accuracy: 0.2606\n",
      "Epoch 2/1000\n",
      "23/31 [=====================>........] - ETA: 0s - loss: 2.0089 - accuracy: 0.1590\n",
      "Epoch 2: saving model to model/keypoint_classifier\\keypoint_classifier.hdf5\n",
      "31/31 [==============================] - 0s 9ms/step - loss: 1.9977 - accuracy: 0.1655 - val_loss: 1.9653 - val_accuracy: 0.3061\n",
      "Epoch 3/1000\n",
      "22/31 [====================>.........] - ETA: 0s - loss: 1.9512 - accuracy: 0.2262\n",
      "Epoch 3: saving model to model/keypoint_classifier\\keypoint_classifier.hdf5\n",
      "31/31 [==============================] - 0s 10ms/step - loss: 1.9404 - accuracy: 0.2304 - val_loss: 1.8901 - val_accuracy: 0.3114\n",
      "Epoch 4/1000\n",
      "27/31 [=========================>....] - ETA: 0s - loss: 1.8687 - accuracy: 0.2671\n",
      "Epoch 4: saving model to model/keypoint_classifier\\keypoint_classifier.hdf5\n",
      "31/31 [==============================] - 0s 10ms/step - loss: 1.8654 - accuracy: 0.2681 - val_loss: 1.7901 - val_accuracy: 0.3182\n",
      "Epoch 5/1000\n",
      "23/31 [=====================>........] - ETA: 0s - loss: 1.8068 - accuracy: 0.2931\n",
      "Epoch 5: saving model to model/keypoint_classifier\\keypoint_classifier.hdf5\n",
      "31/31 [==============================] - 0s 11ms/step - loss: 1.7964 - accuracy: 0.2956 - val_loss: 1.7155 - val_accuracy: 0.3182\n",
      "Epoch 6/1000\n",
      "24/31 [======================>.......] - ETA: 0s - loss: 1.7536 - accuracy: 0.2865\n",
      "Epoch 6: saving model to model/keypoint_classifier\\keypoint_classifier.hdf5\n",
      "31/31 [==============================] - 1s 17ms/step - loss: 1.7477 - accuracy: 0.2900 - val_loss: 1.6616 - val_accuracy: 0.3189\n",
      "Epoch 7/1000\n",
      "22/31 [====================>.........] - ETA: 0s - loss: 1.7054 - accuracy: 0.2976\n",
      "Epoch 7: saving model to model/keypoint_classifier\\keypoint_classifier.hdf5\n",
      "31/31 [==============================] - 0s 10ms/step - loss: 1.6931 - accuracy: 0.3044 - val_loss: 1.6055 - val_accuracy: 0.3212\n",
      "Epoch 8/1000\n",
      "21/31 [===================>..........] - ETA: 0s - loss: 1.6396 - accuracy: 0.3051\n",
      "Epoch 8: saving model to model/keypoint_classifier\\keypoint_classifier.hdf5\n",
      "31/31 [==============================] - 0s 9ms/step - loss: 1.6412 - accuracy: 0.3050 - val_loss: 1.5492 - val_accuracy: 0.3303\n",
      "Epoch 9/1000\n",
      "28/31 [==========================>...] - ETA: 0s - loss: 1.6153 - accuracy: 0.3306\n",
      "Epoch 9: saving model to model/keypoint_classifier\\keypoint_classifier.hdf5\n",
      "31/31 [==============================] - 0s 12ms/step - loss: 1.6073 - accuracy: 0.3338 - val_loss: 1.4877 - val_accuracy: 0.3985\n",
      "Epoch 10/1000\n",
      "29/31 [===========================>..] - ETA: 0s - loss: 1.5470 - accuracy: 0.3723\n",
      "Epoch 10: saving model to model/keypoint_classifier\\keypoint_classifier.hdf5\n",
      "31/31 [==============================] - 0s 11ms/step - loss: 1.5479 - accuracy: 0.3696 - val_loss: 1.4156 - val_accuracy: 0.4515\n",
      "Epoch 11/1000\n",
      "16/31 [==============>...............] - ETA: 0s - loss: 1.4954 - accuracy: 0.4004\n",
      "Epoch 11: saving model to model/keypoint_classifier\\keypoint_classifier.hdf5\n",
      "31/31 [==============================] - 0s 9ms/step - loss: 1.4919 - accuracy: 0.3979 - val_loss: 1.3393 - val_accuracy: 0.4667\n",
      "Epoch 12/1000\n",
      "26/31 [========================>.....] - ETA: 0s - loss: 1.4568 - accuracy: 0.4020\n",
      "Epoch 12: saving model to model/keypoint_classifier\\keypoint_classifier.hdf5\n",
      "31/31 [==============================] - 0s 10ms/step - loss: 1.4534 - accuracy: 0.4040 - val_loss: 1.2666 - val_accuracy: 0.5008\n",
      "Epoch 13/1000\n",
      "26/31 [========================>.....] - ETA: 0s - loss: 1.4095 - accuracy: 0.4186\n",
      "Epoch 13: saving model to model/keypoint_classifier\\keypoint_classifier.hdf5\n",
      "31/31 [==============================] - 0s 10ms/step - loss: 1.3988 - accuracy: 0.4237 - val_loss: 1.1965 - val_accuracy: 0.5174\n",
      "Epoch 14/1000\n",
      "23/31 [=====================>........] - ETA: 0s - loss: 1.3702 - accuracy: 0.4365\n",
      "Epoch 14: saving model to model/keypoint_classifier\\keypoint_classifier.hdf5\n",
      "31/31 [==============================] - 0s 9ms/step - loss: 1.3614 - accuracy: 0.4333 - val_loss: 1.1395 - val_accuracy: 0.5212\n",
      "Epoch 15/1000\n",
      "31/31 [==============================] - ETA: 0s - loss: 1.3218 - accuracy: 0.4356\n",
      "Epoch 15: saving model to model/keypoint_classifier\\keypoint_classifier.hdf5\n",
      "31/31 [==============================] - 0s 8ms/step - loss: 1.3218 - accuracy: 0.4356 - val_loss: 1.0866 - val_accuracy: 0.5212\n",
      "Epoch 16/1000\n",
      "30/31 [============================>.] - ETA: 0s - loss: 1.3021 - accuracy: 0.4417\n",
      "Epoch 16: saving model to model/keypoint_classifier\\keypoint_classifier.hdf5\n",
      "31/31 [==============================] - 0s 13ms/step - loss: 1.3053 - accuracy: 0.4391 - val_loss: 1.0496 - val_accuracy: 0.5212\n",
      "Epoch 17/1000\n",
      "31/31 [==============================] - ETA: 0s - loss: 1.2653 - accuracy: 0.4512\n",
      "Epoch 17: saving model to model/keypoint_classifier\\keypoint_classifier.hdf5\n",
      "31/31 [==============================] - 0s 10ms/step - loss: 1.2653 - accuracy: 0.4512 - val_loss: 1.0188 - val_accuracy: 0.5508\n",
      "Epoch 18/1000\n",
      "25/31 [=======================>......] - ETA: 0s - loss: 1.2337 - accuracy: 0.4566\n",
      "Epoch 18: saving model to model/keypoint_classifier\\keypoint_classifier.hdf5\n",
      "31/31 [==============================] - 0s 9ms/step - loss: 1.2295 - accuracy: 0.4603 - val_loss: 0.9851 - val_accuracy: 0.5591\n",
      "Epoch 19/1000\n",
      "23/31 [=====================>........] - ETA: 0s - loss: 1.2215 - accuracy: 0.4671\n",
      "Epoch 19: saving model to model/keypoint_classifier\\keypoint_classifier.hdf5\n",
      "31/31 [==============================] - 0s 6ms/step - loss: 1.2195 - accuracy: 0.4631 - val_loss: 0.9589 - val_accuracy: 0.5545\n",
      "Epoch 20/1000\n",
      "24/31 [======================>.......] - ETA: 0s - loss: 1.1789 - accuracy: 0.4827\n",
      "Epoch 20: saving model to model/keypoint_classifier\\keypoint_classifier.hdf5\n",
      "31/31 [==============================] - 0s 5ms/step - loss: 1.1742 - accuracy: 0.4853 - val_loss: 0.9361 - val_accuracy: 0.5424\n",
      "Epoch 21/1000\n",
      "24/31 [======================>.......] - ETA: 0s - loss: 1.1730 - accuracy: 0.4736\n",
      "Epoch 21: saving model to model/keypoint_classifier\\keypoint_classifier.hdf5\n",
      "31/31 [==============================] - 0s 5ms/step - loss: 1.1733 - accuracy: 0.4737 - val_loss: 0.9110 - val_accuracy: 0.5424\n",
      "Epoch 22/1000\n",
      "20/31 [==================>...........] - ETA: 0s - loss: 1.1763 - accuracy: 0.4824\n",
      "Epoch 22: saving model to model/keypoint_classifier\\keypoint_classifier.hdf5\n",
      "31/31 [==============================] - 0s 7ms/step - loss: 1.1643 - accuracy: 0.4907 - val_loss: 0.8942 - val_accuracy: 0.5765\n",
      "Epoch 23/1000\n",
      "25/31 [=======================>......] - ETA: 0s - loss: 1.1404 - accuracy: 0.5113\n",
      "Epoch 23: saving model to model/keypoint_classifier\\keypoint_classifier.hdf5\n",
      "31/31 [==============================] - 0s 8ms/step - loss: 1.1321 - accuracy: 0.5192 - val_loss: 0.8765 - val_accuracy: 0.5947\n",
      "Epoch 24/1000\n",
      "20/31 [==================>...........] - ETA: 0s - loss: 1.1402 - accuracy: 0.5191\n",
      "Epoch 24: saving model to model/keypoint_classifier\\keypoint_classifier.hdf5\n",
      "31/31 [==============================] - 0s 7ms/step - loss: 1.1188 - accuracy: 0.5253 - val_loss: 0.8496 - val_accuracy: 0.6205\n",
      "Epoch 25/1000\n",
      "20/31 [==================>...........] - ETA: 0s - loss: 1.1103 - accuracy: 0.5441\n",
      "Epoch 25: saving model to model/keypoint_classifier\\keypoint_classifier.hdf5\n",
      "31/31 [==============================] - 0s 7ms/step - loss: 1.1063 - accuracy: 0.5440 - val_loss: 0.8423 - val_accuracy: 0.6614\n",
      "Epoch 26/1000\n",
      "20/31 [==================>...........] - ETA: 0s - loss: 1.1086 - accuracy: 0.5441\n",
      "Epoch 26: saving model to model/keypoint_classifier\\keypoint_classifier.hdf5\n",
      "31/31 [==============================] - 0s 7ms/step - loss: 1.1021 - accuracy: 0.5520 - val_loss: 0.8195 - val_accuracy: 0.6833\n",
      "Epoch 27/1000\n",
      "19/31 [=================>............] - ETA: 0s - loss: 1.0926 - accuracy: 0.5502\n",
      "Epoch 27: saving model to model/keypoint_classifier\\keypoint_classifier.hdf5\n",
      "31/31 [==============================] - 0s 7ms/step - loss: 1.0930 - accuracy: 0.5520 - val_loss: 0.8028 - val_accuracy: 0.7386\n",
      "Epoch 28/1000\n"
     ]
    },
    {
     "name": "stdout",
     "output_type": "stream",
     "text": [
      "17/31 [===============>..............] - ETA: 0s - loss: 1.0579 - accuracy: 0.5616\n",
      "Epoch 28: saving model to model/keypoint_classifier\\keypoint_classifier.hdf5\n",
      "31/31 [==============================] - 0s 9ms/step - loss: 1.0577 - accuracy: 0.5649 - val_loss: 0.7742 - val_accuracy: 0.8227\n",
      "Epoch 29/1000\n",
      "20/31 [==================>...........] - ETA: 0s - loss: 1.0491 - accuracy: 0.5816\n",
      "Epoch 29: saving model to model/keypoint_classifier\\keypoint_classifier.hdf5\n",
      "31/31 [==============================] - 0s 10ms/step - loss: 1.0562 - accuracy: 0.5763 - val_loss: 0.7608 - val_accuracy: 0.8371\n",
      "Epoch 30/1000\n",
      "18/31 [================>.............] - ETA: 0s - loss: 1.0250 - accuracy: 0.5894\n",
      "Epoch 30: saving model to model/keypoint_classifier\\keypoint_classifier.hdf5\n",
      "31/31 [==============================] - 0s 8ms/step - loss: 1.0100 - accuracy: 0.5973 - val_loss: 0.7330 - val_accuracy: 0.8205\n",
      "Epoch 31/1000\n",
      "29/31 [===========================>..] - ETA: 0s - loss: 1.0284 - accuracy: 0.5929\n",
      "Epoch 31: saving model to model/keypoint_classifier\\keypoint_classifier.hdf5\n",
      "31/31 [==============================] - 0s 12ms/step - loss: 1.0257 - accuracy: 0.5963 - val_loss: 0.7188 - val_accuracy: 0.8583\n",
      "Epoch 32/1000\n",
      "23/31 [=====================>........] - ETA: 0s - loss: 1.0150 - accuracy: 0.5954\n",
      "Epoch 32: saving model to model/keypoint_classifier\\keypoint_classifier.hdf5\n",
      "31/31 [==============================] - 0s 11ms/step - loss: 1.0094 - accuracy: 0.5990 - val_loss: 0.6986 - val_accuracy: 0.8583\n",
      "Epoch 33/1000\n",
      "24/31 [======================>.......] - ETA: 0s - loss: 0.9854 - accuracy: 0.6133\n",
      "Epoch 33: saving model to model/keypoint_classifier\\keypoint_classifier.hdf5\n",
      "31/31 [==============================] - 0s 11ms/step - loss: 0.9935 - accuracy: 0.6132 - val_loss: 0.6899 - val_accuracy: 0.9000\n",
      "Epoch 34/1000\n",
      "31/31 [==============================] - ETA: 0s - loss: 0.9847 - accuracy: 0.6107\n",
      "Epoch 34: saving model to model/keypoint_classifier\\keypoint_classifier.hdf5\n",
      "31/31 [==============================] - 0s 11ms/step - loss: 0.9847 - accuracy: 0.6107 - val_loss: 0.6640 - val_accuracy: 0.9045\n",
      "Epoch 35/1000\n",
      "17/31 [===============>..............] - ETA: 0s - loss: 0.9782 - accuracy: 0.6186\n",
      "Epoch 35: saving model to model/keypoint_classifier\\keypoint_classifier.hdf5\n",
      "31/31 [==============================] - 0s 7ms/step - loss: 0.9732 - accuracy: 0.6172 - val_loss: 0.6489 - val_accuracy: 0.9152\n",
      "Epoch 36/1000\n",
      "31/31 [==============================] - ETA: 0s - loss: 0.9434 - accuracy: 0.6253\n",
      "Epoch 36: saving model to model/keypoint_classifier\\keypoint_classifier.hdf5\n",
      "31/31 [==============================] - 0s 8ms/step - loss: 0.9434 - accuracy: 0.6253 - val_loss: 0.6295 - val_accuracy: 0.9311\n",
      "Epoch 37/1000\n",
      "17/31 [===============>..............] - ETA: 0s - loss: 0.9682 - accuracy: 0.6268\n",
      "Epoch 37: saving model to model/keypoint_classifier\\keypoint_classifier.hdf5\n",
      "31/31 [==============================] - 0s 8ms/step - loss: 0.9620 - accuracy: 0.6329 - val_loss: 0.6172 - val_accuracy: 0.9364\n",
      "Epoch 38/1000\n",
      "28/31 [==========================>...] - ETA: 0s - loss: 0.9369 - accuracy: 0.6350\n",
      "Epoch 38: saving model to model/keypoint_classifier\\keypoint_classifier.hdf5\n",
      "31/31 [==============================] - 0s 8ms/step - loss: 0.9335 - accuracy: 0.6385 - val_loss: 0.5991 - val_accuracy: 0.9311\n",
      "Epoch 39/1000\n",
      "18/31 [================>.............] - ETA: 0s - loss: 0.9225 - accuracy: 0.6306\n",
      "Epoch 39: saving model to model/keypoint_classifier\\keypoint_classifier.hdf5\n",
      "31/31 [==============================] - 0s 9ms/step - loss: 0.9298 - accuracy: 0.6304 - val_loss: 0.5885 - val_accuracy: 0.9333\n",
      "Epoch 40/1000\n",
      "27/31 [=========================>....] - ETA: 0s - loss: 0.9373 - accuracy: 0.6357\n",
      "Epoch 40: saving model to model/keypoint_classifier\\keypoint_classifier.hdf5\n",
      "31/31 [==============================] - 0s 11ms/step - loss: 0.9291 - accuracy: 0.6410 - val_loss: 0.5825 - val_accuracy: 0.9447\n",
      "Epoch 41/1000\n",
      "27/31 [=========================>....] - ETA: 0s - loss: 0.9148 - accuracy: 0.6429\n",
      "Epoch 41: saving model to model/keypoint_classifier\\keypoint_classifier.hdf5\n",
      "31/31 [==============================] - 0s 10ms/step - loss: 0.9182 - accuracy: 0.6427 - val_loss: 0.5651 - val_accuracy: 0.9455\n",
      "Epoch 42/1000\n",
      "28/31 [==========================>...] - ETA: 0s - loss: 0.8872 - accuracy: 0.6532\n",
      "Epoch 42: saving model to model/keypoint_classifier\\keypoint_classifier.hdf5\n",
      "31/31 [==============================] - 0s 8ms/step - loss: 0.8941 - accuracy: 0.6475 - val_loss: 0.5452 - val_accuracy: 0.9409\n",
      "Epoch 43/1000\n",
      "17/31 [===============>..............] - ETA: 0s - loss: 0.9029 - accuracy: 0.6475\n",
      "Epoch 43: saving model to model/keypoint_classifier\\keypoint_classifier.hdf5\n",
      "31/31 [==============================] - 0s 7ms/step - loss: 0.8845 - accuracy: 0.6531 - val_loss: 0.5368 - val_accuracy: 0.9462\n",
      "Epoch 44/1000\n",
      "18/31 [================>.............] - ETA: 0s - loss: 0.8796 - accuracy: 0.6558\n",
      "Epoch 44: saving model to model/keypoint_classifier\\keypoint_classifier.hdf5\n",
      "31/31 [==============================] - 0s 7ms/step - loss: 0.8839 - accuracy: 0.6544 - val_loss: 0.5382 - val_accuracy: 0.9447\n",
      "Epoch 45/1000\n",
      "17/31 [===============>..............] - ETA: 0s - loss: 0.8914 - accuracy: 0.6461\n",
      "Epoch 45: saving model to model/keypoint_classifier\\keypoint_classifier.hdf5\n",
      "31/31 [==============================] - 0s 7ms/step - loss: 0.8760 - accuracy: 0.6544 - val_loss: 0.5196 - val_accuracy: 0.9432\n",
      "Epoch 46/1000\n",
      "18/31 [================>.............] - ETA: 0s - loss: 0.8684 - accuracy: 0.6641\n",
      "Epoch 46: saving model to model/keypoint_classifier\\keypoint_classifier.hdf5\n",
      "31/31 [==============================] - 0s 7ms/step - loss: 0.8735 - accuracy: 0.6597 - val_loss: 0.5053 - val_accuracy: 0.9417\n",
      "Epoch 47/1000\n",
      "31/31 [==============================] - ETA: 0s - loss: 0.8612 - accuracy: 0.6680\n",
      "Epoch 47: saving model to model/keypoint_classifier\\keypoint_classifier.hdf5\n",
      "31/31 [==============================] - 0s 7ms/step - loss: 0.8612 - accuracy: 0.6680 - val_loss: 0.5039 - val_accuracy: 0.9447\n",
      "Epoch 48/1000\n",
      "16/31 [==============>...............] - ETA: 0s - loss: 0.9002 - accuracy: 0.6431\n",
      "Epoch 48: saving model to model/keypoint_classifier\\keypoint_classifier.hdf5\n",
      "31/31 [==============================] - 0s 8ms/step - loss: 0.8730 - accuracy: 0.6597 - val_loss: 0.4829 - val_accuracy: 0.9439\n",
      "Epoch 49/1000\n",
      "28/31 [==========================>...] - ETA: 0s - loss: 0.8637 - accuracy: 0.6515\n",
      "Epoch 49: saving model to model/keypoint_classifier\\keypoint_classifier.hdf5\n",
      "31/31 [==============================] - 1s 19ms/step - loss: 0.8585 - accuracy: 0.6536 - val_loss: 0.4826 - val_accuracy: 0.9545\n",
      "Epoch 50/1000\n",
      "24/31 [======================>.......] - ETA: 0s - loss: 0.8582 - accuracy: 0.6579\n",
      "Epoch 50: saving model to model/keypoint_classifier\\keypoint_classifier.hdf5\n",
      "31/31 [==============================] - 0s 6ms/step - loss: 0.8674 - accuracy: 0.6541 - val_loss: 0.4699 - val_accuracy: 0.9515\n",
      "Epoch 51/1000\n",
      "25/31 [=======================>......] - ETA: 0s - loss: 0.8491 - accuracy: 0.6728\n",
      "Epoch 51: saving model to model/keypoint_classifier\\keypoint_classifier.hdf5\n",
      "31/31 [==============================] - 0s 6ms/step - loss: 0.8442 - accuracy: 0.6723 - val_loss: 0.4658 - val_accuracy: 0.9530\n",
      "Epoch 52/1000\n",
      "14/31 [============>.................] - ETA: 0s - loss: 0.8392 - accuracy: 0.6769\n",
      "Epoch 52: saving model to model/keypoint_classifier\\keypoint_classifier.hdf5\n",
      "31/31 [==============================] - 0s 6ms/step - loss: 0.8176 - accuracy: 0.6834 - val_loss: 0.4536 - val_accuracy: 0.9530\n",
      "Epoch 53/1000\n",
      "23/31 [=====================>........] - ETA: 0s - loss: 0.8214 - accuracy: 0.6827\n",
      "Epoch 53: saving model to model/keypoint_classifier\\keypoint_classifier.hdf5\n",
      "31/31 [==============================] - 0s 7ms/step - loss: 0.8263 - accuracy: 0.6743 - val_loss: 0.4422 - val_accuracy: 0.9515\n",
      "Epoch 54/1000\n",
      "29/31 [===========================>..] - ETA: 0s - loss: 0.8173 - accuracy: 0.6721\n",
      "Epoch 54: saving model to model/keypoint_classifier\\keypoint_classifier.hdf5\n",
      "31/31 [==============================] - 0s 9ms/step - loss: 0.8204 - accuracy: 0.6698 - val_loss: 0.4411 - val_accuracy: 0.9553\n",
      "Epoch 55/1000\n"
     ]
    },
    {
     "name": "stdout",
     "output_type": "stream",
     "text": [
      "28/31 [==========================>...] - ETA: 0s - loss: 0.8416 - accuracy: 0.6652\n",
      "Epoch 55: saving model to model/keypoint_classifier\\keypoint_classifier.hdf5\n",
      "31/31 [==============================] - 0s 8ms/step - loss: 0.8373 - accuracy: 0.6657 - val_loss: 0.4316 - val_accuracy: 0.9629\n",
      "Epoch 56/1000\n",
      "16/31 [==============>...............] - ETA: 0s - loss: 0.8218 - accuracy: 0.6729\n",
      "Epoch 56: saving model to model/keypoint_classifier\\keypoint_classifier.hdf5\n",
      "31/31 [==============================] - 0s 8ms/step - loss: 0.8080 - accuracy: 0.6794 - val_loss: 0.4338 - val_accuracy: 0.9576\n",
      "Epoch 57/1000\n",
      "14/31 [============>.................] - ETA: 0s - loss: 0.7918 - accuracy: 0.6847\n",
      "Epoch 57: saving model to model/keypoint_classifier\\keypoint_classifier.hdf5\n",
      "31/31 [==============================] - 0s 8ms/step - loss: 0.7954 - accuracy: 0.6900 - val_loss: 0.4200 - val_accuracy: 0.9545\n",
      "Epoch 58/1000\n",
      "24/31 [======================>.......] - ETA: 0s - loss: 0.8027 - accuracy: 0.6852\n",
      "Epoch 58: saving model to model/keypoint_classifier\\keypoint_classifier.hdf5\n",
      "31/31 [==============================] - 0s 9ms/step - loss: 0.8058 - accuracy: 0.6806 - val_loss: 0.4201 - val_accuracy: 0.9561\n",
      "Epoch 59/1000\n",
      "16/31 [==============>...............] - ETA: 0s - loss: 0.8131 - accuracy: 0.6899\n",
      "Epoch 59: saving model to model/keypoint_classifier\\keypoint_classifier.hdf5\n",
      "31/31 [==============================] - 0s 7ms/step - loss: 0.8157 - accuracy: 0.6794 - val_loss: 0.4182 - val_accuracy: 0.9568\n",
      "Epoch 60/1000\n",
      "17/31 [===============>..............] - ETA: 0s - loss: 0.7916 - accuracy: 0.6847\n",
      "Epoch 60: saving model to model/keypoint_classifier\\keypoint_classifier.hdf5\n",
      "31/31 [==============================] - 0s 7ms/step - loss: 0.7916 - accuracy: 0.6890 - val_loss: 0.4046 - val_accuracy: 0.9576\n",
      "Epoch 61/1000\n",
      "17/31 [===============>..............] - ETA: 0s - loss: 0.7749 - accuracy: 0.6953\n",
      "Epoch 61: saving model to model/keypoint_classifier\\keypoint_classifier.hdf5\n",
      "31/31 [==============================] - 0s 7ms/step - loss: 0.7966 - accuracy: 0.6852 - val_loss: 0.4039 - val_accuracy: 0.9652\n",
      "Epoch 62/1000\n",
      "17/31 [===============>..............] - ETA: 0s - loss: 0.8017 - accuracy: 0.6921\n",
      "Epoch 62: saving model to model/keypoint_classifier\\keypoint_classifier.hdf5\n",
      "31/31 [==============================] - 0s 7ms/step - loss: 0.7961 - accuracy: 0.6956 - val_loss: 0.3965 - val_accuracy: 0.9621\n",
      "Epoch 63/1000\n",
      "18/31 [================>.............] - ETA: 0s - loss: 0.7821 - accuracy: 0.6975\n",
      "Epoch 63: saving model to model/keypoint_classifier\\keypoint_classifier.hdf5\n",
      "31/31 [==============================] - 0s 7ms/step - loss: 0.7908 - accuracy: 0.6928 - val_loss: 0.3924 - val_accuracy: 0.9629\n",
      "Epoch 64/1000\n",
      "18/31 [================>.............] - ETA: 0s - loss: 0.8158 - accuracy: 0.6797\n",
      "Epoch 64: saving model to model/keypoint_classifier\\keypoint_classifier.hdf5\n",
      "31/31 [==============================] - 0s 8ms/step - loss: 0.8090 - accuracy: 0.6867 - val_loss: 0.3932 - val_accuracy: 0.9591\n",
      "Epoch 65/1000\n",
      "18/31 [================>.............] - ETA: 0s - loss: 0.7901 - accuracy: 0.6875\n",
      "Epoch 65: saving model to model/keypoint_classifier\\keypoint_classifier.hdf5\n",
      "31/31 [==============================] - 0s 7ms/step - loss: 0.8087 - accuracy: 0.6809 - val_loss: 0.3913 - val_accuracy: 0.9652\n",
      "Epoch 66/1000\n",
      "17/31 [===============>..............] - ETA: 0s - loss: 0.8106 - accuracy: 0.6857\n",
      "Epoch 66: saving model to model/keypoint_classifier\\keypoint_classifier.hdf5\n",
      "31/31 [==============================] - 0s 7ms/step - loss: 0.7956 - accuracy: 0.6892 - val_loss: 0.3912 - val_accuracy: 0.9636\n",
      "Epoch 67/1000\n",
      "15/31 [=============>................] - ETA: 0s - loss: 0.7839 - accuracy: 0.6844\n",
      "Epoch 67: saving model to model/keypoint_classifier\\keypoint_classifier.hdf5\n",
      "31/31 [==============================] - 0s 7ms/step - loss: 0.7590 - accuracy: 0.6993 - val_loss: 0.3807 - val_accuracy: 0.9621\n",
      "Epoch 68/1000\n",
      "16/31 [==============>...............] - ETA: 0s - loss: 0.7785 - accuracy: 0.7036\n",
      "Epoch 68: saving model to model/keypoint_classifier\\keypoint_classifier.hdf5\n",
      "31/31 [==============================] - 0s 7ms/step - loss: 0.7885 - accuracy: 0.6966 - val_loss: 0.3783 - val_accuracy: 0.9689\n",
      "Epoch 69/1000\n",
      "14/31 [============>.................] - ETA: 0s - loss: 0.7525 - accuracy: 0.6931\n",
      "Epoch 69: saving model to model/keypoint_classifier\\keypoint_classifier.hdf5\n",
      "31/31 [==============================] - 0s 7ms/step - loss: 0.7427 - accuracy: 0.6958 - val_loss: 0.3646 - val_accuracy: 0.9689\n",
      "Epoch 70/1000\n",
      "17/31 [===============>..............] - ETA: 0s - loss: 0.7548 - accuracy: 0.7114\n",
      "Epoch 70: saving model to model/keypoint_classifier\\keypoint_classifier.hdf5\n",
      "31/31 [==============================] - 0s 7ms/step - loss: 0.7664 - accuracy: 0.7064 - val_loss: 0.3674 - val_accuracy: 0.9636\n",
      "Epoch 71/1000\n",
      "18/31 [================>.............] - ETA: 0s - loss: 0.7739 - accuracy: 0.6910\n",
      "Epoch 71: saving model to model/keypoint_classifier\\keypoint_classifier.hdf5\n",
      "31/31 [==============================] - 0s 8ms/step - loss: 0.7673 - accuracy: 0.6966 - val_loss: 0.3621 - val_accuracy: 0.9652\n",
      "Epoch 72/1000\n",
      "18/31 [================>.............] - ETA: 0s - loss: 0.7649 - accuracy: 0.6992\n",
      "Epoch 72: saving model to model/keypoint_classifier\\keypoint_classifier.hdf5\n",
      "31/31 [==============================] - 0s 7ms/step - loss: 0.7460 - accuracy: 0.7117 - val_loss: 0.3630 - val_accuracy: 0.9682\n",
      "Epoch 73/1000\n",
      "19/31 [=================>............] - ETA: 0s - loss: 0.7494 - accuracy: 0.7118\n",
      "Epoch 73: saving model to model/keypoint_classifier\\keypoint_classifier.hdf5\n",
      "31/31 [==============================] - 0s 7ms/step - loss: 0.7553 - accuracy: 0.7110 - val_loss: 0.3593 - val_accuracy: 0.9689\n",
      "Epoch 74/1000\n",
      "30/31 [============================>.] - ETA: 0s - loss: 0.7520 - accuracy: 0.7070\n",
      "Epoch 74: saving model to model/keypoint_classifier\\keypoint_classifier.hdf5\n",
      "31/31 [==============================] - 0s 12ms/step - loss: 0.7514 - accuracy: 0.7077 - val_loss: 0.3618 - val_accuracy: 0.9705\n",
      "Epoch 75/1000\n",
      "30/31 [============================>.] - ETA: 0s - loss: 0.7575 - accuracy: 0.7049\n",
      "Epoch 75: saving model to model/keypoint_classifier\\keypoint_classifier.hdf5\n",
      "31/31 [==============================] - 0s 11ms/step - loss: 0.7591 - accuracy: 0.7034 - val_loss: 0.3574 - val_accuracy: 0.9545\n",
      "Epoch 76/1000\n",
      "29/31 [===========================>..] - ETA: 0s - loss: 0.7535 - accuracy: 0.7064\n",
      "Epoch 76: saving model to model/keypoint_classifier\\keypoint_classifier.hdf5\n",
      "31/31 [==============================] - 0s 8ms/step - loss: 0.7511 - accuracy: 0.7072 - val_loss: 0.3601 - val_accuracy: 0.9697\n",
      "Epoch 77/1000\n",
      "29/31 [===========================>..] - ETA: 0s - loss: 0.7842 - accuracy: 0.6870\n",
      "Epoch 77: saving model to model/keypoint_classifier\\keypoint_classifier.hdf5\n",
      "31/31 [==============================] - 0s 11ms/step - loss: 0.7775 - accuracy: 0.6895 - val_loss: 0.3606 - val_accuracy: 0.9682\n",
      "Epoch 78/1000\n",
      "21/31 [===================>..........] - ETA: 0s - loss: 0.7676 - accuracy: 0.7098\n",
      "Epoch 78: saving model to model/keypoint_classifier\\keypoint_classifier.hdf5\n",
      "31/31 [==============================] - 0s 9ms/step - loss: 0.7653 - accuracy: 0.7077 - val_loss: 0.3546 - val_accuracy: 0.9697\n",
      "Epoch 79/1000\n",
      "24/31 [======================>.......] - ETA: 0s - loss: 0.7625 - accuracy: 0.7038\n",
      "Epoch 79: saving model to model/keypoint_classifier\\keypoint_classifier.hdf5\n",
      "31/31 [==============================] - 0s 10ms/step - loss: 0.7617 - accuracy: 0.6976 - val_loss: 0.3536 - val_accuracy: 0.9705\n",
      "Epoch 80/1000\n",
      "24/31 [======================>.......] - ETA: 0s - loss: 0.7352 - accuracy: 0.7188\n",
      "Epoch 80: saving model to model/keypoint_classifier\\keypoint_classifier.hdf5\n",
      "31/31 [==============================] - 0s 12ms/step - loss: 0.7397 - accuracy: 0.7137 - val_loss: 0.3548 - val_accuracy: 0.9697\n",
      "Epoch 81/1000\n",
      "26/31 [========================>.....] - ETA: 0s - loss: 0.7647 - accuracy: 0.6971\n",
      "Epoch 81: saving model to model/keypoint_classifier\\keypoint_classifier.hdf5\n",
      "31/31 [==============================] - 0s 10ms/step - loss: 0.7593 - accuracy: 0.6981 - val_loss: 0.3523 - val_accuracy: 0.9727\n",
      "Epoch 82/1000\n"
     ]
    },
    {
     "name": "stdout",
     "output_type": "stream",
     "text": [
      "23/31 [=====================>........] - ETA: 0s - loss: 0.7692 - accuracy: 0.7028\n",
      "Epoch 82: saving model to model/keypoint_classifier\\keypoint_classifier.hdf5\n",
      "31/31 [==============================] - 0s 11ms/step - loss: 0.7656 - accuracy: 0.7024 - val_loss: 0.3497 - val_accuracy: 0.9727\n",
      "Epoch 83/1000\n",
      "29/31 [===========================>..] - ETA: 0s - loss: 0.7528 - accuracy: 0.7042\n",
      "Epoch 83: saving model to model/keypoint_classifier\\keypoint_classifier.hdf5\n",
      "31/31 [==============================] - 0s 8ms/step - loss: 0.7498 - accuracy: 0.7046 - val_loss: 0.3507 - val_accuracy: 0.9682\n",
      "Epoch 84/1000\n",
      "28/31 [==========================>...] - ETA: 0s - loss: 0.7133 - accuracy: 0.7148\n",
      "Epoch 84: saving model to model/keypoint_classifier\\keypoint_classifier.hdf5\n",
      "31/31 [==============================] - 0s 12ms/step - loss: 0.7132 - accuracy: 0.7168 - val_loss: 0.3434 - val_accuracy: 0.9697\n",
      "Epoch 85/1000\n",
      "26/31 [========================>.....] - ETA: 0s - loss: 0.7279 - accuracy: 0.7130\n",
      "Epoch 85: saving model to model/keypoint_classifier\\keypoint_classifier.hdf5\n",
      "31/31 [==============================] - 0s 8ms/step - loss: 0.7310 - accuracy: 0.7115 - val_loss: 0.3366 - val_accuracy: 0.9705\n",
      "Epoch 86/1000\n",
      "26/31 [========================>.....] - ETA: 0s - loss: 0.7255 - accuracy: 0.7127\n",
      "Epoch 86: saving model to model/keypoint_classifier\\keypoint_classifier.hdf5\n",
      "31/31 [==============================] - 0s 10ms/step - loss: 0.7308 - accuracy: 0.7082 - val_loss: 0.3320 - val_accuracy: 0.9697\n",
      "Epoch 87/1000\n",
      "30/31 [============================>.] - ETA: 0s - loss: 0.7757 - accuracy: 0.6943\n",
      "Epoch 87: saving model to model/keypoint_classifier\\keypoint_classifier.hdf5\n",
      "31/31 [==============================] - 0s 8ms/step - loss: 0.7735 - accuracy: 0.6950 - val_loss: 0.3397 - val_accuracy: 0.9667\n",
      "Epoch 88/1000\n",
      "21/31 [===================>..........] - ETA: 0s - loss: 0.7355 - accuracy: 0.7117\n",
      "Epoch 88: saving model to model/keypoint_classifier\\keypoint_classifier.hdf5\n",
      "31/31 [==============================] - 0s 9ms/step - loss: 0.7289 - accuracy: 0.7132 - val_loss: 0.3362 - val_accuracy: 0.9705\n",
      "Epoch 89/1000\n",
      "17/31 [===============>..............] - ETA: 0s - loss: 0.7419 - accuracy: 0.7132\n",
      "Epoch 89: saving model to model/keypoint_classifier\\keypoint_classifier.hdf5\n",
      "31/31 [==============================] - 0s 8ms/step - loss: 0.7390 - accuracy: 0.7130 - val_loss: 0.3334 - val_accuracy: 0.9659\n",
      "Epoch 90/1000\n",
      "31/31 [==============================] - ETA: 0s - loss: 0.7236 - accuracy: 0.7137\n",
      "Epoch 90: saving model to model/keypoint_classifier\\keypoint_classifier.hdf5\n",
      "31/31 [==============================] - 0s 9ms/step - loss: 0.7236 - accuracy: 0.7137 - val_loss: 0.3368 - val_accuracy: 0.9758\n",
      "Epoch 91/1000\n",
      "20/31 [==================>...........] - ETA: 0s - loss: 0.7701 - accuracy: 0.6992\n",
      "Epoch 91: saving model to model/keypoint_classifier\\keypoint_classifier.hdf5\n",
      "31/31 [==============================] - 0s 11ms/step - loss: 0.7584 - accuracy: 0.7044 - val_loss: 0.3383 - val_accuracy: 0.9727\n",
      "Epoch 92/1000\n",
      "22/31 [====================>.........] - ETA: 0s - loss: 0.7152 - accuracy: 0.7177\n",
      "Epoch 92: saving model to model/keypoint_classifier\\keypoint_classifier.hdf5\n",
      "31/31 [==============================] - 0s 6ms/step - loss: 0.7180 - accuracy: 0.7163 - val_loss: 0.3314 - val_accuracy: 0.9652\n",
      "Epoch 93/1000\n",
      "15/31 [=============>................] - ETA: 0s - loss: 0.7574 - accuracy: 0.7005\n",
      "Epoch 93: saving model to model/keypoint_classifier\\keypoint_classifier.hdf5\n",
      "31/31 [==============================] - 0s 6ms/step - loss: 0.7295 - accuracy: 0.7132 - val_loss: 0.3346 - val_accuracy: 0.9720\n",
      "Epoch 94/1000\n",
      "24/31 [======================>.......] - ETA: 0s - loss: 0.7212 - accuracy: 0.7230\n",
      "Epoch 94: saving model to model/keypoint_classifier\\keypoint_classifier.hdf5\n",
      "31/31 [==============================] - 0s 6ms/step - loss: 0.7268 - accuracy: 0.7196 - val_loss: 0.3311 - val_accuracy: 0.9682\n",
      "Epoch 95/1000\n",
      "23/31 [=====================>........] - ETA: 0s - loss: 0.7193 - accuracy: 0.7103\n",
      "Epoch 95: saving model to model/keypoint_classifier\\keypoint_classifier.hdf5\n",
      "31/31 [==============================] - 0s 6ms/step - loss: 0.7131 - accuracy: 0.7142 - val_loss: 0.3289 - val_accuracy: 0.9705\n",
      "Epoch 96/1000\n",
      "23/31 [=====================>........] - ETA: 0s - loss: 0.7195 - accuracy: 0.7276\n",
      "Epoch 96: saving model to model/keypoint_classifier\\keypoint_classifier.hdf5\n",
      "31/31 [==============================] - 0s 5ms/step - loss: 0.7164 - accuracy: 0.7256 - val_loss: 0.3294 - val_accuracy: 0.9705\n",
      "Epoch 97/1000\n",
      "20/31 [==================>...........] - ETA: 0s - loss: 0.7337 - accuracy: 0.7020\n",
      "Epoch 97: saving model to model/keypoint_classifier\\keypoint_classifier.hdf5\n",
      "31/31 [==============================] - 0s 6ms/step - loss: 0.7262 - accuracy: 0.7115 - val_loss: 0.3393 - val_accuracy: 0.9735\n",
      "Epoch 98/1000\n",
      "14/31 [============>.................] - ETA: 0s - loss: 0.7214 - accuracy: 0.7109\n",
      "Epoch 98: saving model to model/keypoint_classifier\\keypoint_classifier.hdf5\n",
      "31/31 [==============================] - 0s 6ms/step - loss: 0.7132 - accuracy: 0.7183 - val_loss: 0.3272 - val_accuracy: 0.9720\n",
      "Epoch 99/1000\n",
      "20/31 [==================>...........] - ETA: 0s - loss: 0.7267 - accuracy: 0.7059\n",
      "Epoch 99: saving model to model/keypoint_classifier\\keypoint_classifier.hdf5\n",
      "31/31 [==============================] - 0s 8ms/step - loss: 0.7356 - accuracy: 0.7054 - val_loss: 0.3294 - val_accuracy: 0.9750\n",
      "Epoch 100/1000\n",
      "23/31 [=====================>........] - ETA: 0s - loss: 0.7164 - accuracy: 0.7259\n",
      "Epoch 100: saving model to model/keypoint_classifier\\keypoint_classifier.hdf5\n",
      "31/31 [==============================] - 0s 5ms/step - loss: 0.7265 - accuracy: 0.7178 - val_loss: 0.3212 - val_accuracy: 0.9667\n",
      "Epoch 101/1000\n",
      "22/31 [====================>.........] - ETA: 0s - loss: 0.7258 - accuracy: 0.7085\n",
      "Epoch 101: saving model to model/keypoint_classifier\\keypoint_classifier.hdf5\n",
      "31/31 [==============================] - 0s 6ms/step - loss: 0.7215 - accuracy: 0.7145 - val_loss: 0.3284 - val_accuracy: 0.9735\n",
      "Epoch 102/1000\n",
      "23/31 [=====================>........] - ETA: 0s - loss: 0.7090 - accuracy: 0.7242\n",
      "Epoch 102: saving model to model/keypoint_classifier\\keypoint_classifier.hdf5\n",
      "31/31 [==============================] - 0s 6ms/step - loss: 0.7087 - accuracy: 0.7274 - val_loss: 0.3212 - val_accuracy: 0.9750\n",
      "Epoch 103/1000\n",
      "25/31 [=======================>......] - ETA: 0s - loss: 0.7149 - accuracy: 0.7272\n",
      "Epoch 103: saving model to model/keypoint_classifier\\keypoint_classifier.hdf5\n",
      "31/31 [==============================] - 0s 6ms/step - loss: 0.7201 - accuracy: 0.7241 - val_loss: 0.3220 - val_accuracy: 0.9758\n",
      "Epoch 104/1000\n",
      "20/31 [==================>...........] - ETA: 0s - loss: 0.7110 - accuracy: 0.7281\n",
      "Epoch 104: saving model to model/keypoint_classifier\\keypoint_classifier.hdf5\n",
      "31/31 [==============================] - 0s 6ms/step - loss: 0.7107 - accuracy: 0.7297 - val_loss: 0.3209 - val_accuracy: 0.9727\n",
      "Epoch 105/1000\n",
      "26/31 [========================>.....] - ETA: 0s - loss: 0.7209 - accuracy: 0.7212\n",
      "Epoch 105: saving model to model/keypoint_classifier\\keypoint_classifier.hdf5\n",
      "31/31 [==============================] - 0s 6ms/step - loss: 0.7123 - accuracy: 0.7223 - val_loss: 0.3219 - val_accuracy: 0.9727\n",
      "Epoch 106/1000\n",
      "15/31 [=============>................] - ETA: 0s - loss: 0.7001 - accuracy: 0.7219\n",
      "Epoch 106: saving model to model/keypoint_classifier\\keypoint_classifier.hdf5\n",
      "31/31 [==============================] - 0s 12ms/step - loss: 0.7085 - accuracy: 0.7246 - val_loss: 0.3230 - val_accuracy: 0.9735\n",
      "Epoch 107/1000\n",
      "11/31 [=========>....................] - ETA: 0s - loss: 0.7390 - accuracy: 0.7081\n",
      "Epoch 107: saving model to model/keypoint_classifier\\keypoint_classifier.hdf5\n",
      "31/31 [==============================] - 0s 6ms/step - loss: 0.7129 - accuracy: 0.7254 - val_loss: 0.3181 - val_accuracy: 0.9697\n",
      "Epoch 108/1000\n",
      "20/31 [==================>...........] - ETA: 0s - loss: 0.6899 - accuracy: 0.7324\n",
      "Epoch 108: saving model to model/keypoint_classifier\\keypoint_classifier.hdf5\n",
      "31/31 [==============================] - 0s 7ms/step - loss: 0.6970 - accuracy: 0.7266 - val_loss: 0.3117 - val_accuracy: 0.9712\n",
      "Epoch 109/1000\n"
     ]
    },
    {
     "name": "stdout",
     "output_type": "stream",
     "text": [
      "15/31 [=============>................] - ETA: 0s - loss: 0.7105 - accuracy: 0.7214\n",
      "Epoch 109: saving model to model/keypoint_classifier\\keypoint_classifier.hdf5\n",
      "31/31 [==============================] - 0s 9ms/step - loss: 0.7039 - accuracy: 0.7203 - val_loss: 0.3175 - val_accuracy: 0.9773\n",
      "Epoch 110/1000\n",
      "21/31 [===================>..........] - ETA: 0s - loss: 0.6883 - accuracy: 0.7359\n",
      "Epoch 110: saving model to model/keypoint_classifier\\keypoint_classifier.hdf5\n",
      "31/31 [==============================] - 0s 6ms/step - loss: 0.7035 - accuracy: 0.7264 - val_loss: 0.3223 - val_accuracy: 0.9765\n",
      "Epoch 111/1000\n",
      "22/31 [====================>.........] - ETA: 0s - loss: 0.7111 - accuracy: 0.7333\n",
      "Epoch 111: saving model to model/keypoint_classifier\\keypoint_classifier.hdf5\n",
      "31/31 [==============================] - 0s 6ms/step - loss: 0.7140 - accuracy: 0.7319 - val_loss: 0.3088 - val_accuracy: 0.9742\n",
      "Epoch 112/1000\n",
      "24/31 [======================>.......] - ETA: 0s - loss: 0.6985 - accuracy: 0.7406\n",
      "Epoch 112: saving model to model/keypoint_classifier\\keypoint_classifier.hdf5\n",
      "31/31 [==============================] - 0s 6ms/step - loss: 0.7020 - accuracy: 0.7388 - val_loss: 0.3067 - val_accuracy: 0.9780\n",
      "Epoch 113/1000\n",
      "24/31 [======================>.......] - ETA: 0s - loss: 0.6936 - accuracy: 0.7314\n",
      "Epoch 113: saving model to model/keypoint_classifier\\keypoint_classifier.hdf5\n",
      "31/31 [==============================] - 0s 6ms/step - loss: 0.6882 - accuracy: 0.7309 - val_loss: 0.3107 - val_accuracy: 0.9735\n",
      "Epoch 114/1000\n",
      "19/31 [=================>............] - ETA: 0s - loss: 0.7105 - accuracy: 0.7327\n",
      "Epoch 114: saving model to model/keypoint_classifier\\keypoint_classifier.hdf5\n",
      "31/31 [==============================] - 0s 6ms/step - loss: 0.7256 - accuracy: 0.7173 - val_loss: 0.3069 - val_accuracy: 0.9705\n",
      "Epoch 115/1000\n",
      "22/31 [====================>.........] - ETA: 0s - loss: 0.7213 - accuracy: 0.7241\n",
      "Epoch 115: saving model to model/keypoint_classifier\\keypoint_classifier.hdf5\n",
      "31/31 [==============================] - 0s 6ms/step - loss: 0.7203 - accuracy: 0.7231 - val_loss: 0.3181 - val_accuracy: 0.9735\n",
      "Epoch 116/1000\n",
      "22/31 [====================>.........] - ETA: 0s - loss: 0.7182 - accuracy: 0.7255\n",
      "Epoch 116: saving model to model/keypoint_classifier\\keypoint_classifier.hdf5\n",
      "31/31 [==============================] - 0s 6ms/step - loss: 0.7142 - accuracy: 0.7201 - val_loss: 0.3114 - val_accuracy: 0.9758\n",
      "Epoch 117/1000\n",
      "20/31 [==================>...........] - ETA: 0s - loss: 0.7110 - accuracy: 0.7230\n",
      "Epoch 117: saving model to model/keypoint_classifier\\keypoint_classifier.hdf5\n",
      "31/31 [==============================] - 0s 6ms/step - loss: 0.7111 - accuracy: 0.7239 - val_loss: 0.3089 - val_accuracy: 0.9682\n",
      "Epoch 118/1000\n",
      "24/31 [======================>.......] - ETA: 0s - loss: 0.6940 - accuracy: 0.7350\n",
      "Epoch 118: saving model to model/keypoint_classifier\\keypoint_classifier.hdf5\n",
      "31/31 [==============================] - 0s 6ms/step - loss: 0.6977 - accuracy: 0.7350 - val_loss: 0.3077 - val_accuracy: 0.9765\n",
      "Epoch 119/1000\n",
      "26/31 [========================>.....] - ETA: 0s - loss: 0.7076 - accuracy: 0.7293\n",
      "Epoch 119: saving model to model/keypoint_classifier\\keypoint_classifier.hdf5\n",
      "31/31 [==============================] - 0s 5ms/step - loss: 0.7022 - accuracy: 0.7314 - val_loss: 0.3117 - val_accuracy: 0.9720\n",
      "Epoch 120/1000\n",
      "24/31 [======================>.......] - ETA: 0s - loss: 0.7052 - accuracy: 0.7298\n",
      "Epoch 120: saving model to model/keypoint_classifier\\keypoint_classifier.hdf5\n",
      "31/31 [==============================] - 0s 7ms/step - loss: 0.7133 - accuracy: 0.7289 - val_loss: 0.3126 - val_accuracy: 0.9765\n",
      "Epoch 121/1000\n",
      "20/31 [==================>...........] - ETA: 0s - loss: 0.6885 - accuracy: 0.7309\n",
      "Epoch 121: saving model to model/keypoint_classifier\\keypoint_classifier.hdf5\n",
      "31/31 [==============================] - 0s 6ms/step - loss: 0.6965 - accuracy: 0.7274 - val_loss: 0.3057 - val_accuracy: 0.9720\n",
      "Epoch 122/1000\n",
      "19/31 [=================>............] - ETA: 0s - loss: 0.6846 - accuracy: 0.7319\n",
      "Epoch 122: saving model to model/keypoint_classifier\\keypoint_classifier.hdf5\n",
      "31/31 [==============================] - 0s 7ms/step - loss: 0.6787 - accuracy: 0.7395 - val_loss: 0.3008 - val_accuracy: 0.9727\n",
      "Epoch 123/1000\n",
      "21/31 [===================>..........] - ETA: 0s - loss: 0.7065 - accuracy: 0.7202\n",
      "Epoch 123: saving model to model/keypoint_classifier\\keypoint_classifier.hdf5\n",
      "31/31 [==============================] - 0s 6ms/step - loss: 0.6963 - accuracy: 0.7302 - val_loss: 0.3062 - val_accuracy: 0.9712\n",
      "Epoch 124/1000\n",
      "19/31 [=================>............] - ETA: 0s - loss: 0.7298 - accuracy: 0.7303\n",
      "Epoch 124: saving model to model/keypoint_classifier\\keypoint_classifier.hdf5\n",
      "31/31 [==============================] - 0s 8ms/step - loss: 0.7377 - accuracy: 0.7256 - val_loss: 0.3172 - val_accuracy: 0.9720\n",
      "Epoch 125/1000\n",
      "31/31 [==============================] - ETA: 0s - loss: 0.7067 - accuracy: 0.7276\n",
      "Epoch 125: saving model to model/keypoint_classifier\\keypoint_classifier.hdf5\n",
      "31/31 [==============================] - 0s 8ms/step - loss: 0.7067 - accuracy: 0.7276 - val_loss: 0.3082 - val_accuracy: 0.9659\n",
      "Epoch 126/1000\n",
      "21/31 [===================>..........] - ETA: 0s - loss: 0.7168 - accuracy: 0.7150\n",
      "Epoch 126: saving model to model/keypoint_classifier\\keypoint_classifier.hdf5\n",
      "31/31 [==============================] - 0s 7ms/step - loss: 0.7020 - accuracy: 0.7279 - val_loss: 0.3193 - val_accuracy: 0.9773\n",
      "Epoch 127/1000\n",
      "31/31 [==============================] - ETA: 0s - loss: 0.6881 - accuracy: 0.7299\n",
      "Epoch 127: saving model to model/keypoint_classifier\\keypoint_classifier.hdf5\n",
      "31/31 [==============================] - 0s 8ms/step - loss: 0.6881 - accuracy: 0.7299 - val_loss: 0.3075 - val_accuracy: 0.9727\n",
      "Epoch 128/1000\n",
      "19/31 [=================>............] - ETA: 0s - loss: 0.6987 - accuracy: 0.7241\n",
      "Epoch 128: saving model to model/keypoint_classifier\\keypoint_classifier.hdf5\n",
      "31/31 [==============================] - 0s 7ms/step - loss: 0.6943 - accuracy: 0.7249 - val_loss: 0.2993 - val_accuracy: 0.9689\n",
      "Epoch 129/1000\n",
      "21/31 [===================>..........] - ETA: 0s - loss: 0.7262 - accuracy: 0.7266\n",
      "Epoch 129: saving model to model/keypoint_classifier\\keypoint_classifier.hdf5\n",
      "31/31 [==============================] - 0s 7ms/step - loss: 0.7081 - accuracy: 0.7292 - val_loss: 0.3125 - val_accuracy: 0.9735\n",
      "Epoch 130/1000\n",
      "30/31 [============================>.] - ETA: 0s - loss: 0.7054 - accuracy: 0.7271\n",
      "Epoch 130: saving model to model/keypoint_classifier\\keypoint_classifier.hdf5\n",
      "31/31 [==============================] - 0s 8ms/step - loss: 0.7024 - accuracy: 0.7279 - val_loss: 0.3057 - val_accuracy: 0.9674\n",
      "Epoch 131/1000\n",
      "19/31 [=================>............] - ETA: 0s - loss: 0.6850 - accuracy: 0.7385\n",
      "Epoch 131: saving model to model/keypoint_classifier\\keypoint_classifier.hdf5\n",
      "31/31 [==============================] - 0s 8ms/step - loss: 0.7036 - accuracy: 0.7279 - val_loss: 0.3073 - val_accuracy: 0.9727\n",
      "Epoch 132/1000\n",
      "15/31 [=============>................] - ETA: 0s - loss: 0.6826 - accuracy: 0.7333\n",
      "Epoch 132: saving model to model/keypoint_classifier\\keypoint_classifier.hdf5\n",
      "31/31 [==============================] - 0s 7ms/step - loss: 0.6837 - accuracy: 0.7362 - val_loss: 0.3017 - val_accuracy: 0.9712\n",
      "Epoch 133/1000\n",
      "18/31 [================>.............] - ETA: 0s - loss: 0.7005 - accuracy: 0.7318\n",
      "Epoch 133: saving model to model/keypoint_classifier\\keypoint_classifier.hdf5\n",
      "31/31 [==============================] - 0s 7ms/step - loss: 0.7041 - accuracy: 0.7276 - val_loss: 0.3103 - val_accuracy: 0.9720\n",
      "Epoch 134/1000\n",
      "19/31 [=================>............] - ETA: 0s - loss: 0.7066 - accuracy: 0.7315\n",
      "Epoch 134: saving model to model/keypoint_classifier\\keypoint_classifier.hdf5\n",
      "31/31 [==============================] - 0s 7ms/step - loss: 0.7207 - accuracy: 0.7256 - val_loss: 0.3075 - val_accuracy: 0.9773\n",
      "Epoch 135/1000\n",
      "19/31 [=================>............] - ETA: 0s - loss: 0.6756 - accuracy: 0.7364\n",
      "Epoch 135: saving model to model/keypoint_classifier\\keypoint_classifier.hdf5\n",
      "31/31 [==============================] - 0s 6ms/step - loss: 0.6769 - accuracy: 0.7395 - val_loss: 0.2945 - val_accuracy: 0.9689\n"
     ]
    },
    {
     "name": "stdout",
     "output_type": "stream",
     "text": [
      "Epoch 136/1000\n",
      "23/31 [=====================>........] - ETA: 0s - loss: 0.6840 - accuracy: 0.7398\n",
      "Epoch 136: saving model to model/keypoint_classifier\\keypoint_classifier.hdf5\n",
      "31/31 [==============================] - 0s 6ms/step - loss: 0.6907 - accuracy: 0.7372 - val_loss: 0.3020 - val_accuracy: 0.9712\n",
      "Epoch 137/1000\n",
      "25/31 [=======================>......] - ETA: 0s - loss: 0.6895 - accuracy: 0.7297\n",
      "Epoch 137: saving model to model/keypoint_classifier\\keypoint_classifier.hdf5\n",
      "31/31 [==============================] - 0s 5ms/step - loss: 0.6920 - accuracy: 0.7281 - val_loss: 0.3004 - val_accuracy: 0.9750\n",
      "Epoch 138/1000\n",
      "28/31 [==========================>...] - ETA: 0s - loss: 0.6961 - accuracy: 0.7427\n",
      "Epoch 138: saving model to model/keypoint_classifier\\keypoint_classifier.hdf5\n",
      "31/31 [==============================] - 0s 7ms/step - loss: 0.6891 - accuracy: 0.7451 - val_loss: 0.2934 - val_accuracy: 0.9705\n",
      "Epoch 139/1000\n",
      "15/31 [=============>................] - ETA: 0s - loss: 0.6873 - accuracy: 0.7286\n",
      "Epoch 139: saving model to model/keypoint_classifier\\keypoint_classifier.hdf5\n",
      "31/31 [==============================] - 0s 7ms/step - loss: 0.6941 - accuracy: 0.7259 - val_loss: 0.2973 - val_accuracy: 0.9727\n",
      "Epoch 140/1000\n",
      "19/31 [=================>............] - ETA: 0s - loss: 0.6788 - accuracy: 0.7463\n",
      "Epoch 140: saving model to model/keypoint_classifier\\keypoint_classifier.hdf5\n",
      "31/31 [==============================] - 0s 7ms/step - loss: 0.6890 - accuracy: 0.7372 - val_loss: 0.2917 - val_accuracy: 0.9697\n",
      "Epoch 141/1000\n",
      "22/31 [====================>.........] - ETA: 0s - loss: 0.6997 - accuracy: 0.7337\n",
      "Epoch 141: saving model to model/keypoint_classifier\\keypoint_classifier.hdf5\n",
      "31/31 [==============================] - 0s 6ms/step - loss: 0.6940 - accuracy: 0.7329 - val_loss: 0.2967 - val_accuracy: 0.9727\n",
      "Epoch 142/1000\n",
      "21/31 [===================>..........] - ETA: 0s - loss: 0.7162 - accuracy: 0.7344\n",
      "Epoch 142: saving model to model/keypoint_classifier\\keypoint_classifier.hdf5\n",
      "31/31 [==============================] - 0s 6ms/step - loss: 0.7097 - accuracy: 0.7324 - val_loss: 0.3133 - val_accuracy: 0.9727\n",
      "Epoch 143/1000\n",
      "24/31 [======================>.......] - ETA: 0s - loss: 0.6618 - accuracy: 0.7503\n",
      "Epoch 143: saving model to model/keypoint_classifier\\keypoint_classifier.hdf5\n",
      "31/31 [==============================] - 0s 6ms/step - loss: 0.6542 - accuracy: 0.7519 - val_loss: 0.3004 - val_accuracy: 0.9758\n",
      "Epoch 144/1000\n",
      "22/31 [====================>.........] - ETA: 0s - loss: 0.6948 - accuracy: 0.7280\n",
      "Epoch 144: saving model to model/keypoint_classifier\\keypoint_classifier.hdf5\n",
      "31/31 [==============================] - 0s 6ms/step - loss: 0.6881 - accuracy: 0.7327 - val_loss: 0.2913 - val_accuracy: 0.9788\n",
      "Epoch 145/1000\n",
      "24/31 [======================>.......] - ETA: 0s - loss: 0.6666 - accuracy: 0.7363\n",
      "Epoch 145: saving model to model/keypoint_classifier\\keypoint_classifier.hdf5\n",
      "31/31 [==============================] - 0s 6ms/step - loss: 0.6660 - accuracy: 0.7375 - val_loss: 0.2918 - val_accuracy: 0.9720\n",
      "Epoch 146/1000\n",
      "23/31 [=====================>........] - ETA: 0s - loss: 0.6835 - accuracy: 0.7381\n",
      "Epoch 146: saving model to model/keypoint_classifier\\keypoint_classifier.hdf5\n",
      "31/31 [==============================] - 0s 6ms/step - loss: 0.6746 - accuracy: 0.7370 - val_loss: 0.2940 - val_accuracy: 0.9803\n",
      "Epoch 147/1000\n",
      "22/31 [====================>.........] - ETA: 0s - loss: 0.6812 - accuracy: 0.7333\n",
      "Epoch 147: saving model to model/keypoint_classifier\\keypoint_classifier.hdf5\n",
      "31/31 [==============================] - 0s 6ms/step - loss: 0.6609 - accuracy: 0.7433 - val_loss: 0.2893 - val_accuracy: 0.9758\n",
      "Epoch 148/1000\n",
      "18/31 [================>.............] - ETA: 0s - loss: 0.7227 - accuracy: 0.7075\n",
      "Epoch 148: saving model to model/keypoint_classifier\\keypoint_classifier.hdf5\n",
      "31/31 [==============================] - 0s 6ms/step - loss: 0.6927 - accuracy: 0.7292 - val_loss: 0.2893 - val_accuracy: 0.9780\n",
      "Epoch 149/1000\n",
      "23/31 [=====================>........] - ETA: 0s - loss: 0.6820 - accuracy: 0.7378\n",
      "Epoch 149: saving model to model/keypoint_classifier\\keypoint_classifier.hdf5\n",
      "31/31 [==============================] - 0s 7ms/step - loss: 0.6765 - accuracy: 0.7390 - val_loss: 0.2930 - val_accuracy: 0.9758\n",
      "Epoch 150/1000\n",
      "15/31 [=============>................] - ETA: 0s - loss: 0.6578 - accuracy: 0.7469\n",
      "Epoch 150: saving model to model/keypoint_classifier\\keypoint_classifier.hdf5\n",
      "31/31 [==============================] - 0s 6ms/step - loss: 0.6698 - accuracy: 0.7388 - val_loss: 0.2855 - val_accuracy: 0.9765\n",
      "Epoch 151/1000\n",
      "29/31 [===========================>..] - ETA: 0s - loss: 0.6847 - accuracy: 0.7384\n",
      "Epoch 151: saving model to model/keypoint_classifier\\keypoint_classifier.hdf5\n",
      "31/31 [==============================] - 0s 8ms/step - loss: 0.6867 - accuracy: 0.7360 - val_loss: 0.2835 - val_accuracy: 0.9750\n",
      "Epoch 152/1000\n",
      "17/31 [===============>..............] - ETA: 0s - loss: 0.7139 - accuracy: 0.7302\n",
      "Epoch 152: saving model to model/keypoint_classifier\\keypoint_classifier.hdf5\n",
      "31/31 [==============================] - 0s 7ms/step - loss: 0.6862 - accuracy: 0.7448 - val_loss: 0.2909 - val_accuracy: 0.9780\n",
      "Epoch 153/1000\n",
      "15/31 [=============>................] - ETA: 0s - loss: 0.6749 - accuracy: 0.7380\n",
      "Epoch 153: saving model to model/keypoint_classifier\\keypoint_classifier.hdf5\n",
      "31/31 [==============================] - 0s 6ms/step - loss: 0.6941 - accuracy: 0.7261 - val_loss: 0.3003 - val_accuracy: 0.9727\n",
      "Epoch 154/1000\n",
      "18/31 [================>.............] - ETA: 0s - loss: 0.6618 - accuracy: 0.7361\n",
      "Epoch 154: saving model to model/keypoint_classifier\\keypoint_classifier.hdf5\n",
      "31/31 [==============================] - 0s 8ms/step - loss: 0.6654 - accuracy: 0.7390 - val_loss: 0.2801 - val_accuracy: 0.9735\n",
      "Epoch 155/1000\n",
      "23/31 [=====================>........] - ETA: 0s - loss: 0.6935 - accuracy: 0.7340\n",
      "Epoch 155: saving model to model/keypoint_classifier\\keypoint_classifier.hdf5\n",
      "31/31 [==============================] - 0s 12ms/step - loss: 0.6849 - accuracy: 0.7375 - val_loss: 0.2863 - val_accuracy: 0.9780\n",
      "Epoch 156/1000\n",
      "18/31 [================>.............] - ETA: 0s - loss: 0.7029 - accuracy: 0.7305\n",
      "Epoch 156: saving model to model/keypoint_classifier\\keypoint_classifier.hdf5\n",
      "31/31 [==============================] - 0s 7ms/step - loss: 0.7067 - accuracy: 0.7307 - val_loss: 0.2939 - val_accuracy: 0.9773\n",
      "Epoch 157/1000\n",
      "15/31 [=============>................] - ETA: 0s - loss: 0.7003 - accuracy: 0.7302\n",
      "Epoch 157: saving model to model/keypoint_classifier\\keypoint_classifier.hdf5\n",
      "31/31 [==============================] - 0s 10ms/step - loss: 0.6826 - accuracy: 0.7337 - val_loss: 0.2930 - val_accuracy: 0.9765\n",
      "Epoch 158/1000\n",
      "31/31 [==============================] - ETA: 0s - loss: 0.7031 - accuracy: 0.7355\n",
      "Epoch 158: saving model to model/keypoint_classifier\\keypoint_classifier.hdf5\n",
      "31/31 [==============================] - 0s 8ms/step - loss: 0.7031 - accuracy: 0.7355 - val_loss: 0.2886 - val_accuracy: 0.9773\n",
      "Epoch 159/1000\n",
      "19/31 [=================>............] - ETA: 0s - loss: 0.6517 - accuracy: 0.7500\n",
      "Epoch 159: saving model to model/keypoint_classifier\\keypoint_classifier.hdf5\n",
      "31/31 [==============================] - 0s 7ms/step - loss: 0.6591 - accuracy: 0.7436 - val_loss: 0.2948 - val_accuracy: 0.9826\n",
      "Epoch 160/1000\n",
      "18/31 [================>.............] - ETA: 0s - loss: 0.6665 - accuracy: 0.7435\n",
      "Epoch 160: saving model to model/keypoint_classifier\\keypoint_classifier.hdf5\n",
      "31/31 [==============================] - 0s 7ms/step - loss: 0.6549 - accuracy: 0.7516 - val_loss: 0.2822 - val_accuracy: 0.9811\n",
      "Epoch 161/1000\n",
      "31/31 [==============================] - ETA: 0s - loss: 0.6893 - accuracy: 0.7352\n",
      "Epoch 161: saving model to model/keypoint_classifier\\keypoint_classifier.hdf5\n",
      "31/31 [==============================] - 0s 11ms/step - loss: 0.6893 - accuracy: 0.7352 - val_loss: 0.2884 - val_accuracy: 0.9788\n",
      "Epoch 162/1000\n",
      "21/31 [===================>..........] - ETA: 0s - loss: 0.6817 - accuracy: 0.7347\n",
      "Epoch 162: saving model to model/keypoint_classifier\\keypoint_classifier.hdf5\n",
      "31/31 [==============================] - 0s 11ms/step - loss: 0.6819 - accuracy: 0.7350 - val_loss: 0.2832 - val_accuracy: 0.9765\n"
     ]
    },
    {
     "name": "stdout",
     "output_type": "stream",
     "text": [
      "Epoch 163/1000\n",
      "17/31 [===============>..............] - ETA: 0s - loss: 0.6618 - accuracy: 0.7445\n",
      "Epoch 163: saving model to model/keypoint_classifier\\keypoint_classifier.hdf5\n",
      "31/31 [==============================] - 0s 7ms/step - loss: 0.6641 - accuracy: 0.7471 - val_loss: 0.2904 - val_accuracy: 0.9826\n",
      "Epoch 164/1000\n",
      "21/31 [===================>..........] - ETA: 0s - loss: 0.6422 - accuracy: 0.7560\n",
      "Epoch 164: saving model to model/keypoint_classifier\\keypoint_classifier.hdf5\n",
      "31/31 [==============================] - 0s 7ms/step - loss: 0.6505 - accuracy: 0.7486 - val_loss: 0.2909 - val_accuracy: 0.9818\n",
      "Epoch 165/1000\n",
      "20/31 [==================>...........] - ETA: 0s - loss: 0.6580 - accuracy: 0.7500\n",
      "Epoch 165: saving model to model/keypoint_classifier\\keypoint_classifier.hdf5\n",
      "31/31 [==============================] - 0s 7ms/step - loss: 0.6711 - accuracy: 0.7466 - val_loss: 0.2813 - val_accuracy: 0.9811\n",
      "Epoch 166/1000\n",
      "21/31 [===================>..........] - ETA: 0s - loss: 0.6769 - accuracy: 0.7407\n",
      "Epoch 166: saving model to model/keypoint_classifier\\keypoint_classifier.hdf5\n",
      "31/31 [==============================] - 0s 7ms/step - loss: 0.6776 - accuracy: 0.7410 - val_loss: 0.2923 - val_accuracy: 0.9773\n",
      "Epoch 167/1000\n",
      "20/31 [==================>...........] - ETA: 0s - loss: 0.7268 - accuracy: 0.7188\n",
      "Epoch 167: saving model to model/keypoint_classifier\\keypoint_classifier.hdf5\n",
      "31/31 [==============================] - 0s 7ms/step - loss: 0.7028 - accuracy: 0.7281 - val_loss: 0.2879 - val_accuracy: 0.9803\n",
      "Epoch 168/1000\n",
      "19/31 [=================>............] - ETA: 0s - loss: 0.6682 - accuracy: 0.7442\n",
      "Epoch 168: saving model to model/keypoint_classifier\\keypoint_classifier.hdf5\n",
      "31/31 [==============================] - 0s 7ms/step - loss: 0.6501 - accuracy: 0.7494 - val_loss: 0.2835 - val_accuracy: 0.9788\n",
      "Epoch 169/1000\n",
      "18/31 [================>.............] - ETA: 0s - loss: 0.6618 - accuracy: 0.7517\n",
      "Epoch 169: saving model to model/keypoint_classifier\\keypoint_classifier.hdf5\n",
      "31/31 [==============================] - 0s 7ms/step - loss: 0.6559 - accuracy: 0.7527 - val_loss: 0.2848 - val_accuracy: 0.9750\n",
      "Epoch 170/1000\n",
      "31/31 [==============================] - ETA: 0s - loss: 0.6796 - accuracy: 0.7393\n",
      "Epoch 170: saving model to model/keypoint_classifier\\keypoint_classifier.hdf5\n",
      "31/31 [==============================] - 0s 11ms/step - loss: 0.6796 - accuracy: 0.7393 - val_loss: 0.2853 - val_accuracy: 0.9795\n",
      "Epoch 171/1000\n",
      "27/31 [=========================>....] - ETA: 0s - loss: 0.6908 - accuracy: 0.7329\n",
      "Epoch 171: saving model to model/keypoint_classifier\\keypoint_classifier.hdf5\n",
      "31/31 [==============================] - 0s 10ms/step - loss: 0.6860 - accuracy: 0.7360 - val_loss: 0.2745 - val_accuracy: 0.9833\n",
      "Epoch 172/1000\n",
      "16/31 [==============>...............] - ETA: 0s - loss: 0.6794 - accuracy: 0.7368\n",
      "Epoch 172: saving model to model/keypoint_classifier\\keypoint_classifier.hdf5\n",
      "31/31 [==============================] - 0s 8ms/step - loss: 0.6744 - accuracy: 0.7400 - val_loss: 0.2817 - val_accuracy: 0.9811\n",
      "Epoch 173/1000\n",
      "26/31 [========================>.....] - ETA: 0s - loss: 0.6644 - accuracy: 0.7437\n",
      "Epoch 173: saving model to model/keypoint_classifier\\keypoint_classifier.hdf5\n",
      "31/31 [==============================] - 0s 10ms/step - loss: 0.6637 - accuracy: 0.7436 - val_loss: 0.2816 - val_accuracy: 0.9818\n",
      "Epoch 174/1000\n",
      "29/31 [===========================>..] - ETA: 0s - loss: 0.6864 - accuracy: 0.7365\n",
      "Epoch 174: saving model to model/keypoint_classifier\\keypoint_classifier.hdf5\n",
      "31/31 [==============================] - 0s 8ms/step - loss: 0.6818 - accuracy: 0.7398 - val_loss: 0.2857 - val_accuracy: 0.9841\n",
      "Epoch 175/1000\n",
      "22/31 [====================>.........] - ETA: 0s - loss: 0.6639 - accuracy: 0.7525\n",
      "Epoch 175: saving model to model/keypoint_classifier\\keypoint_classifier.hdf5\n",
      "31/31 [==============================] - 0s 6ms/step - loss: 0.6717 - accuracy: 0.7431 - val_loss: 0.2851 - val_accuracy: 0.9833\n",
      "Epoch 176/1000\n",
      "25/31 [=======================>......] - ETA: 0s - loss: 0.6419 - accuracy: 0.7500\n",
      "Epoch 176: saving model to model/keypoint_classifier\\keypoint_classifier.hdf5\n",
      "31/31 [==============================] - 0s 6ms/step - loss: 0.6577 - accuracy: 0.7458 - val_loss: 0.2648 - val_accuracy: 0.9773\n",
      "Epoch 177/1000\n",
      "27/31 [=========================>....] - ETA: 0s - loss: 0.6740 - accuracy: 0.7436\n",
      "Epoch 177: saving model to model/keypoint_classifier\\keypoint_classifier.hdf5\n",
      "31/31 [==============================] - 0s 5ms/step - loss: 0.6657 - accuracy: 0.7476 - val_loss: 0.2806 - val_accuracy: 0.9773\n",
      "Epoch 178/1000\n",
      "27/31 [=========================>....] - ETA: 0s - loss: 0.6674 - accuracy: 0.7509\n",
      "Epoch 178: saving model to model/keypoint_classifier\\keypoint_classifier.hdf5\n",
      "31/31 [==============================] - 0s 5ms/step - loss: 0.6636 - accuracy: 0.7516 - val_loss: 0.2756 - val_accuracy: 0.9773\n",
      "Epoch 179/1000\n",
      "26/31 [========================>.....] - ETA: 0s - loss: 0.6696 - accuracy: 0.7452\n",
      "Epoch 179: saving model to model/keypoint_classifier\\keypoint_classifier.hdf5\n",
      "31/31 [==============================] - 0s 5ms/step - loss: 0.6667 - accuracy: 0.7476 - val_loss: 0.2823 - val_accuracy: 0.9735\n",
      "Epoch 180/1000\n",
      "22/31 [====================>.........] - ETA: 0s - loss: 0.6708 - accuracy: 0.7440\n",
      "Epoch 180: saving model to model/keypoint_classifier\\keypoint_classifier.hdf5\n",
      "31/31 [==============================] - 0s 6ms/step - loss: 0.6713 - accuracy: 0.7415 - val_loss: 0.2801 - val_accuracy: 0.9788\n",
      "Epoch 181/1000\n",
      "22/31 [====================>.........] - ETA: 0s - loss: 0.6362 - accuracy: 0.7610\n",
      "Epoch 181: saving model to model/keypoint_classifier\\keypoint_classifier.hdf5\n",
      "31/31 [==============================] - 0s 6ms/step - loss: 0.6376 - accuracy: 0.7595 - val_loss: 0.2708 - val_accuracy: 0.9795\n",
      "Epoch 182/1000\n",
      "28/31 [==========================>...] - ETA: 0s - loss: 0.6717 - accuracy: 0.7441\n",
      "Epoch 182: saving model to model/keypoint_classifier\\keypoint_classifier.hdf5\n",
      "31/31 [==============================] - 0s 5ms/step - loss: 0.6647 - accuracy: 0.7441 - val_loss: 0.2719 - val_accuracy: 0.9803\n",
      "Epoch 183/1000\n",
      "20/31 [==================>...........] - ETA: 0s - loss: 0.6703 - accuracy: 0.7363\n",
      "Epoch 183: saving model to model/keypoint_classifier\\keypoint_classifier.hdf5\n",
      "31/31 [==============================] - 0s 6ms/step - loss: 0.6688 - accuracy: 0.7418 - val_loss: 0.2764 - val_accuracy: 0.9758\n",
      "Epoch 184/1000\n",
      "26/31 [========================>.....] - ETA: 0s - loss: 0.6704 - accuracy: 0.7464\n",
      "Epoch 184: saving model to model/keypoint_classifier\\keypoint_classifier.hdf5\n",
      "31/31 [==============================] - 0s 5ms/step - loss: 0.6840 - accuracy: 0.7413 - val_loss: 0.2735 - val_accuracy: 0.9780\n",
      "Epoch 185/1000\n",
      "25/31 [=======================>......] - ETA: 0s - loss: 0.6646 - accuracy: 0.7469\n",
      "Epoch 185: saving model to model/keypoint_classifier\\keypoint_classifier.hdf5\n",
      "31/31 [==============================] - 0s 6ms/step - loss: 0.6661 - accuracy: 0.7461 - val_loss: 0.2781 - val_accuracy: 0.9788\n",
      "Epoch 186/1000\n",
      "24/31 [======================>.......] - ETA: 0s - loss: 0.6870 - accuracy: 0.7363\n",
      "Epoch 186: saving model to model/keypoint_classifier\\keypoint_classifier.hdf5\n",
      "31/31 [==============================] - 0s 6ms/step - loss: 0.6857 - accuracy: 0.7380 - val_loss: 0.2813 - val_accuracy: 0.9818\n",
      "Epoch 187/1000\n",
      "29/31 [===========================>..] - ETA: 0s - loss: 0.6434 - accuracy: 0.7497\n",
      "Epoch 187: saving model to model/keypoint_classifier\\keypoint_classifier.hdf5\n",
      "31/31 [==============================] - 0s 5ms/step - loss: 0.6549 - accuracy: 0.7451 - val_loss: 0.2742 - val_accuracy: 0.9788\n",
      "Epoch 188/1000\n",
      "23/31 [=====================>........] - ETA: 0s - loss: 0.6654 - accuracy: 0.7435\n",
      "Epoch 188: saving model to model/keypoint_classifier\\keypoint_classifier.hdf5\n",
      "31/31 [==============================] - 0s 8ms/step - loss: 0.6666 - accuracy: 0.7415 - val_loss: 0.2788 - val_accuracy: 0.9788\n",
      "Epoch 189/1000\n",
      "31/31 [==============================] - ETA: 0s - loss: 0.6600 - accuracy: 0.7494\n",
      "Epoch 189: saving model to model/keypoint_classifier\\keypoint_classifier.hdf5\n",
      "31/31 [==============================] - 0s 7ms/step - loss: 0.6600 - accuracy: 0.7494 - val_loss: 0.2796 - val_accuracy: 0.9780\n"
     ]
    },
    {
     "name": "stdout",
     "output_type": "stream",
     "text": [
      "Epoch 190/1000\n",
      "26/31 [========================>.....] - ETA: 0s - loss: 0.6577 - accuracy: 0.7515\n",
      "Epoch 190: saving model to model/keypoint_classifier\\keypoint_classifier.hdf5\n",
      "31/31 [==============================] - 0s 5ms/step - loss: 0.6547 - accuracy: 0.7547 - val_loss: 0.2700 - val_accuracy: 0.9803\n",
      "Epoch 191/1000\n",
      "22/31 [====================>.........] - ETA: 0s - loss: 0.6616 - accuracy: 0.7454\n",
      "Epoch 191: saving model to model/keypoint_classifier\\keypoint_classifier.hdf5\n",
      "31/31 [==============================] - 0s 5ms/step - loss: 0.6602 - accuracy: 0.7466 - val_loss: 0.2699 - val_accuracy: 0.9795\n",
      "Epoch 192/1000\n",
      "24/31 [======================>.......] - ETA: 0s - loss: 0.6400 - accuracy: 0.7529\n",
      "Epoch 192: saving model to model/keypoint_classifier\\keypoint_classifier.hdf5\n",
      "31/31 [==============================] - 0s 5ms/step - loss: 0.6478 - accuracy: 0.7484 - val_loss: 0.2726 - val_accuracy: 0.9780\n",
      "Epoch 193/1000\n",
      "28/31 [==========================>...] - ETA: 0s - loss: 0.6334 - accuracy: 0.7620\n",
      "Epoch 193: saving model to model/keypoint_classifier\\keypoint_classifier.hdf5\n",
      "31/31 [==============================] - 0s 5ms/step - loss: 0.6358 - accuracy: 0.7602 - val_loss: 0.2701 - val_accuracy: 0.9833\n",
      "Epoch 194/1000\n",
      "28/31 [==========================>...] - ETA: 0s - loss: 0.6464 - accuracy: 0.7586\n",
      "Epoch 194: saving model to model/keypoint_classifier\\keypoint_classifier.hdf5\n",
      "31/31 [==============================] - 0s 5ms/step - loss: 0.6422 - accuracy: 0.7602 - val_loss: 0.2673 - val_accuracy: 0.9833\n",
      "Epoch 195/1000\n",
      "26/31 [========================>.....] - ETA: 0s - loss: 0.6630 - accuracy: 0.7374\n",
      "Epoch 195: saving model to model/keypoint_classifier\\keypoint_classifier.hdf5\n",
      "31/31 [==============================] - 0s 5ms/step - loss: 0.6637 - accuracy: 0.7372 - val_loss: 0.2663 - val_accuracy: 0.9841\n",
      "Epoch 196/1000\n",
      "27/31 [=========================>....] - ETA: 0s - loss: 0.6552 - accuracy: 0.7457\n",
      "Epoch 196: saving model to model/keypoint_classifier\\keypoint_classifier.hdf5\n",
      "31/31 [==============================] - 0s 5ms/step - loss: 0.6495 - accuracy: 0.7494 - val_loss: 0.2682 - val_accuracy: 0.9856\n",
      "Epoch 196: early stopping\n"
     ]
    },
    {
     "data": {
      "text/plain": [
       "<keras.callbacks.History at 0x23b9e0c7760>"
      ]
     },
     "execution_count": 11,
     "metadata": {},
     "output_type": "execute_result"
    }
   ],
   "source": [
    "model.fit(\n",
    "    X_train,\n",
    "    y_train,\n",
    "    epochs=1000,\n",
    "    batch_size=128,\n",
    "    validation_data=(X_test, y_test),\n",
    "    callbacks=[cp_callback, es_callback]\n",
    ")"
   ]
  },
  {
   "cell_type": "code",
   "execution_count": 12,
   "metadata": {
    "colab": {
     "base_uri": "https://localhost:8080/"
    },
    "id": "pxvb2Y299hE3",
    "outputId": "59eb3185-2e37-4b9e-bc9d-ab1b8ac29b7f"
   },
   "outputs": [
    {
     "name": "stdout",
     "output_type": "stream",
     "text": [
      "11/11 [==============================] - 0s 2ms/step - loss: 0.2682 - accuracy: 0.9856\n"
     ]
    }
   ],
   "source": [
    "# Model evaluation\n",
    "val_loss, val_acc = model.evaluate(X_test, y_test, batch_size=128)"
   ]
  },
  {
   "cell_type": "code",
   "execution_count": 13,
   "metadata": {
    "id": "RBkmDeUW9hE4"
   },
   "outputs": [],
   "source": [
    "# Loading the saved model\n",
    "model = tf.keras.models.load_model(model_save_path)"
   ]
  },
  {
   "cell_type": "code",
   "execution_count": 14,
   "metadata": {
    "colab": {
     "base_uri": "https://localhost:8080/"
    },
    "id": "tFz9Tb0I9hE4",
    "outputId": "1c3b3528-54ae-4ee2-ab04-77429211cbef"
   },
   "outputs": [
    {
     "name": "stdout",
     "output_type": "stream",
     "text": [
      "1/1 [==============================] - 0s 128ms/step\n",
      "[5.0114673e-01 1.7556046e-04 6.3186003e-06 1.9368526e-02 1.9863495e-03\n",
      " 3.7330669e-01 9.9519990e-02 4.4899201e-03]\n",
      "0\n"
     ]
    }
   ],
   "source": [
    "# Inference test\n",
    "predict_result = model.predict(np.array([X_test[0]]))\n",
    "print(np.squeeze(predict_result))\n",
    "print(np.argmax(np.squeeze(predict_result)))"
   ]
  },
  {
   "cell_type": "markdown",
   "metadata": {
    "id": "S3U4yNWx9hE4"
   },
   "source": [
    "# Confusion matrix"
   ]
  },
  {
   "cell_type": "code",
   "execution_count": 15,
   "metadata": {
    "colab": {
     "base_uri": "https://localhost:8080/",
     "height": 582
    },
    "id": "AP1V6SCk9hE5",
    "outputId": "08e41a80-7a4a-4619-8125-ecc371368d19"
   },
   "outputs": [
    {
     "name": "stdout",
     "output_type": "stream",
     "text": [
      "42/42 [==============================] - 0s 1ms/step\n"
     ]
    },
    {
     "data": {
      "image/png": "[encoded data removed]",
      "text/plain": [
       "<Figure size 504x432 with 2 Axes>"
      ]
     },
     "metadata": {
      "needs_background": "light"
     },
     "output_type": "display_data"
    },
    {
     "name": "stdout",
     "output_type": "stream",
     "text": [
      "Classification Report\n",
      "              precision    recall  f1-score   support\n",
      "\n",
      "           0       0.98      0.96      0.97       323\n",
      "           1       1.00      1.00      1.00        75\n",
      "           2       1.00      1.00      1.00        97\n",
      "           3       0.99      1.00      1.00       198\n",
      "           4       1.00      0.99      0.99       183\n",
      "           5       0.99      0.99      0.99       150\n",
      "           6       0.95      0.98      0.97       180\n",
      "           7       0.98      1.00      0.99       114\n",
      "\n",
      "    accuracy                           0.99      1320\n",
      "   macro avg       0.99      0.99      0.99      1320\n",
      "weighted avg       0.99      0.99      0.99      1320\n",
      "\n"
     ]
    }
   ],
   "source": [
    "import pandas as pd\n",
    "import seaborn as sns\n",
    "import matplotlib.pyplot as plt\n",
    "from sklearn.metrics import confusion_matrix, classification_report\n",
    "\n",
    "def print_confusion_matrix(y_true, y_pred, report=True):\n",
    "    labels = sorted(list(set(y_true)))\n",
    "    cmx_data = confusion_matrix(y_true, y_pred, labels=labels)\n",
    "    \n",
    "    df_cmx = pd.DataFrame(cmx_data, index=labels, columns=labels)\n",
    " \n",
    "    fig, ax = plt.subplots(figsize=(7, 6))\n",
    "    sns.heatmap(df_cmx, annot=True, fmt='g' ,square=False)\n",
    "    ax.set_ylim(len(set(y_true)), 0)\n",
    "    plt.show()\n",
    "    \n",
    "    if report:\n",
    "        print('Classification Report')\n",
    "        print(classification_report(y_test, y_pred))\n",
    "\n",
    "Y_pred = model.predict(X_test)\n",
    "y_pred = np.argmax(Y_pred, axis=1)\n",
    "\n",
    "print_confusion_matrix(y_test, y_pred)"
   ]
  },
  {
   "cell_type": "markdown",
   "metadata": {
    "id": "FNP6aqzc9hE5"
   },
   "source": [
    "# Convert to model for Tensorflow-Lite"
   ]
  },
  {
   "cell_type": "code",
   "execution_count": 16,
   "metadata": {
    "id": "ODjnYyld9hE6"
   },
   "outputs": [],
   "source": [
    "# Save as a model dedicated to inference\n",
    "model.save(model_save_path, include_optimizer=False)"
   ]
  },
  {
   "cell_type": "code",
   "execution_count": 17,
   "metadata": {
    "colab": {
     "base_uri": "https://localhost:8080/"
    },
    "id": "zRfuK8Y59hE6",
    "outputId": "a4ca585c-b5d5-4244-8291-8674063209bb"
   },
   "outputs": [
    {
     "name": "stdout",
     "output_type": "stream",
     "text": [
      "INFO:tensorflow:Assets written to: C:\\Users\\RESHMA~1\\AppData\\Local\\Temp\\tmpof7oxnek\\assets\n"
     ]
    },
    {
     "data": {
      "text/plain": [
       "6720"
      ]
     },
     "execution_count": 17,
     "metadata": {},
     "output_type": "execute_result"
    }
   ],
   "source": [
    "# Transform model (quantization)\n",
    "\n",
    "converter = tf.lite.TFLiteConverter.from_keras_model(model)\n",
    "converter.optimizations = [tf.lite.Optimize.DEFAULT]\n",
    "tflite_quantized_model = converter.convert()\n",
    "\n",
    "open(tflite_save_path, 'wb').write(tflite_quantized_model)"
   ]
  },
  {
   "cell_type": "markdown",
   "metadata": {
    "id": "CHBPBXdx9hE6"
   },
   "source": [
    "# Inference test"
   ]
  },
  {
   "cell_type": "code",
   "execution_count": 18,
   "metadata": {
    "id": "mGAzLocO9hE7"
   },
   "outputs": [],
   "source": [
    "interpreter = tf.lite.Interpreter(model_path=tflite_save_path)\n",
    "interpreter.allocate_tensors()"
   ]
  },
  {
   "cell_type": "code",
   "execution_count": 19,
   "metadata": {
    "id": "oQuDK8YS9hE7"
   },
   "outputs": [],
   "source": [
    "# Get I / O tensor\n",
    "input_details = interpreter.get_input_details()\n",
    "output_details = interpreter.get_output_details()"
   ]
  },
  {
   "cell_type": "code",
   "execution_count": 20,
   "metadata": {
    "id": "2_ixAf_l9hE7"
   },
   "outputs": [],
   "source": [
    "interpreter.set_tensor(input_details[0]['index'], np.array([X_test[0]]))"
   ]
  },
  {
   "cell_type": "code",
   "execution_count": 21,
   "metadata": {
    "colab": {
     "base_uri": "https://localhost:8080/"
    },
    "id": "s4FoAnuc9hE7",
    "outputId": "91f18257-8d8b-4ef3-c558-e9b5f94fabbf",
    "scrolled": true
   },
   "outputs": [
    {
     "name": "stdout",
     "output_type": "stream",
     "text": [
      "CPU times: total: 0 ns\n",
      "Wall time: 0 ns\n"
     ]
    }
   ],
   "source": [
    "%%time\n",
    "# Inference implementation\n",
    "interpreter.invoke()\n",
    "tflite_results = interpreter.get_tensor(output_details[0]['index'])"
   ]
  },
  {
   "cell_type": "code",
   "execution_count": 22,
   "metadata": {
    "colab": {
     "base_uri": "https://localhost:8080/"
    },
    "id": "vONjp19J9hE8",
    "outputId": "77205e24-fd00-42c4-f7b6-e06e527c2cba"
   },
   "outputs": [
    {
     "name": "stdout",
     "output_type": "stream",
     "text": [
      "[5.0114673e-01 1.7556013e-04 6.3185876e-06 1.9368496e-02 1.9863453e-03\n",
      " 3.7330663e-01 9.9520020e-02 4.4899196e-03]\n",
      "0\n"
     ]
    }
   ],
   "source": [
    "print(np.squeeze(tflite_results))\n",
    "print(np.argmax(np.squeeze(tflite_results)))"
   ]
  }
 ],
 "metadata": {
  "accelerator": "GPU",
  "colab": {
   "collapsed_sections": [],
   "name": "keypoint_classification_EN.ipynb",
   "provenance": [],
   "toc_visible": true
  },
  "kernelspec": {
   "display_name": "Python 3 (ipykernel)",
   "language": "python",
   "name": "python3"
  },
  "language_info": {
   "codemirror_mode": {
    "name": "ipython",
    "version": 3
   },
   "file_extension": ".py",
   "mimetype": "text/x-python",
   "name": "python",
   "nbconvert_exporter": "python",
   "pygments_lexer": "ipython3",
   "version": "3.9.6"
  },
  "vscode": {
   "interpreter": {
    "hash": "f2ccb58c476f33ba3e3aee7ac07234ef6b8217ef24ad64d2a7d4fed1a57c1cd2"
   }
  }
 },
 "nbformat": 4,
 "nbformat_minor": 1
}
